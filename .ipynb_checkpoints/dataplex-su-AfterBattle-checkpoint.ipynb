{
 "cells": [
  {
   "cell_type": "code",
   "execution_count": 1,
   "metadata": {
    "collapsed": true,
    "deletable": true,
    "editable": true
   },
   "outputs": [],
   "source": [
    "#\n",
    "#\n",
    "# Предположительное решение тестового задания\n",
    "#\n",
    "#\n",
    "\n",
    "# Творчески взято и не менее творчески переработано из решения\n",
    "# https://github.com/nfmcclure/tensorflow_cookbook/blob/master/03_Linear_Regression/06_Implementing_Lasso_and_Ridge_Regression/06_lasso_and_ridge_regression.py\n",
    "#\n",
    "# Подготовлено в Python 2.7\n",
    "#"
   ]
  },
  {
   "cell_type": "code",
   "execution_count": 2,
   "metadata": {
    "collapsed": false,
    "deletable": true,
    "editable": true
   },
   "outputs": [
    {
     "name": "stdout",
     "output_type": "stream",
     "text": [
      " \n"
     ]
    }
   ],
   "source": [
    "#\n",
    "# Задача на тестовое задание выглядело следующим образом 26/04/2018 20:07 (MSK) dataplex.su\n",
    "#\n",
    "\"\"\"\n",
    "Скажите, вы сможете выполнить тестовое задание?\n",
    " \n",
    "Описание задания:\n",
    "1. на tensorflow обучить регрессию с регуляризацией\n",
    "2. данные - это котировки финансового актива - CISCO. (файл прикреплен в конце письма)\n",
    "3. обучение производить по цене Close.\n",
    " \n",
    "Время на выполнения = 2 дня. В случае вопросов - пишите на почту или в телеграм.\n",
    "\n",
    "\"\"\"\n",
    "\n",
    "# \n",
    "# После выполнения задачи (28/04/2018) были высказаны следуюште претензии (03/05/2018) по полученному решению\n",
    "#\n",
    "\n",
    "\"\"\"\n",
    "добрый день! посмотрели. Приняли другого кандидата. \n",
    "Добрый день.\n",
    "\n",
    "Что желательно должно было бы присутствовать в работе:\n",
    "1. графики предсказания\n",
    "2. регуляризация\n",
    "3. нормализацию данных (выбран весьма странный диапазон для min max scale: feature_range=(28, 42), \n",
    "   можно использовать (0,1)) И делать нормализацию сразу на train и test части - это переобучение.\n",
    "4. Вывести функцию лшибки (число) для train/test\n",
    "5. следить за переобучением.\n",
    "6. сгенерировать новые признаки.\n",
    "\"\"\"\n",
    "\n",
    "#\n",
    "# На всякий случай проверил и увидел один ошибку и недочет в отсутствии вывода ошибки\n",
    "# Ошибка была в использовании минимизатора: tf.train.GradientDescentOptimizer(lr)\n",
    "# который сходился, но очень медленно. Фактически было трудно понять когда он сойдется.\n",
    "# Фактическая его замена на tf.train.AdamOptimizer(lr) сразу привело все в норму по результату.\n",
    "# Результат дополнительно проверил по sklearn Ridge regression. Результаты и точность\n",
    "# совпадают до 2-4 знака (график и точность с результатами приведены в конце).\n",
    "#\n",
    "# Регуляризация (Ridge) присутствовала в первоначальном варианте. Вообще присутствовали три\n",
    "# варианта None (без регуляризации), Lasso (L1), Ridge (L2)\n",
    "#\n",
    "# Нормализация данных отcутствовала, поскольку она и так нормально сходится к значениям, что с \n",
    "# нормализацией, что без. Ошибка приблизительно одинаковая. Специально проверил с нормализацией\n",
    "# и без. Сейчас отключена. По задаче необходимо было предсказывать этот диапазон - диапазон Close.\n",
    "# Его значения находятся в диапазоне [28-42]. Причем здесь нормализация [0-1], даже после нормализации \n",
    "# все равно нужно было бы переводить в диапазон [28-42]\n",
    "#\n",
    "# Переобучения там нет. Возможны были только устранения выбросов, но визульно их не видно.\n",
    "# \n",
    "# По анализу данных предварительных разговоров не было, хотя для данных присутствуют подозрения\n",
    "# в некоторой годовой/полугодовой/квартальной сезонности\n",
    "#\n",
    "# Единственные серьезные претензии: некорректное обучение (но претензия не высказана), во-вторых,\n",
    "# отсутствует расчет ошибки. \n",
    "#\n",
    "# Для интереса была выполнена проверка и доработка, а именно, сменен оптимизатор на AdamOptimizer, \n",
    "# который существенно ускорил процесс сходимости. Добавлен останов подбора решения после начала бега на месте.\n",
    "# Решение было проверено с помощью sklearn Ridge regression. Рассчитана ошибка. Результаты и ошибка \n",
    "# совпали до 2-4 знака.\n",
    "#\n",
    "# Результаты в конце\n",
    "#\n",
    "# 04|05|2018\n",
    "#\n",
    "###\n",
    "\n",
    "print(' ')"
   ]
  },
  {
   "cell_type": "code",
   "execution_count": 3,
   "metadata": {
    "collapsed": false,
    "deletable": true,
    "editable": true
   },
   "outputs": [],
   "source": [
    "# import required libraries\n",
    "from __future__ import print_function\n",
    "import matplotlib.pyplot as plt\n",
    "import sys, os, datetime\n",
    "import numpy as np\n",
    "import pandas as pd\n",
    "import sklearn.metrics"
   ]
  },
  {
   "cell_type": "code",
   "execution_count": 4,
   "metadata": {
    "collapsed": false,
    "deletable": true,
    "editable": true
   },
   "outputs": [],
   "source": [
    "import tensorflow as tf\n",
    "from tensorflow.python.framework import ops"
   ]
  },
  {
   "cell_type": "code",
   "execution_count": 5,
   "metadata": {
    "collapsed": false,
    "deletable": true,
    "editable": true
   },
   "outputs": [
    {
     "name": "stdout",
     "output_type": "stream",
     "text": [
      "python    : 2.7.13 |Continuum Analytics, Inc.| (default, Dec 20 2016, 23:09:15) \n",
      "[GCC 4.4.7 20120313 (Red Hat 4.4.7-1)]\n",
      "pandas    : 0.19.2\n",
      "numpy     : 1.14.1\n",
      "tensorflow: 1.2.1\n"
     ]
    }
   ],
   "source": [
    "print('python    :',sys.version)\n",
    "print('pandas    :',pd.__version__)\n",
    "print('numpy     :',np.__version__)\n",
    "print('tensorflow:',tf.__version__)"
   ]
  },
  {
   "cell_type": "code",
   "execution_count": null,
   "metadata": {
    "collapsed": true,
    "deletable": true,
    "editable": true
   },
   "outputs": [],
   "source": []
  },
  {
   "cell_type": "code",
   "execution_count": 6,
   "metadata": {
    "collapsed": false,
    "deletable": true,
    "editable": true
   },
   "outputs": [],
   "source": [
    "datas = pd.read_csv('./CSCO_2Y.csv', parse_dates=True)"
   ]
  },
  {
   "cell_type": "code",
   "execution_count": 7,
   "metadata": {
    "collapsed": false,
    "deletable": true,
    "editable": true
   },
   "outputs": [
    {
     "data": {
      "text/html": [
       "<div>\n",
       "<table border=\"1\" class=\"dataframe\">\n",
       "  <thead>\n",
       "    <tr style=\"text-align: right;\">\n",
       "      <th></th>\n",
       "      <th>Date</th>\n",
       "      <th>Open</th>\n",
       "      <th>High</th>\n",
       "      <th>Low</th>\n",
       "      <th>Close</th>\n",
       "      <th>Adj Close</th>\n",
       "      <th>Volume</th>\n",
       "    </tr>\n",
       "  </thead>\n",
       "  <tbody>\n",
       "    <tr>\n",
       "      <th>0</th>\n",
       "      <td>2016-04-14</td>\n",
       "      <td>28.379999</td>\n",
       "      <td>28.400000</td>\n",
       "      <td>28.100000</td>\n",
       "      <td>28.250000</td>\n",
       "      <td>26.396441</td>\n",
       "      <td>15036700</td>\n",
       "    </tr>\n",
       "    <tr>\n",
       "      <th>1</th>\n",
       "      <td>2016-04-15</td>\n",
       "      <td>28.100000</td>\n",
       "      <td>28.129999</td>\n",
       "      <td>27.730000</td>\n",
       "      <td>27.900000</td>\n",
       "      <td>26.069405</td>\n",
       "      <td>23804400</td>\n",
       "    </tr>\n",
       "    <tr>\n",
       "      <th>2</th>\n",
       "      <td>2016-04-18</td>\n",
       "      <td>27.900000</td>\n",
       "      <td>28.250000</td>\n",
       "      <td>27.799999</td>\n",
       "      <td>28.190001</td>\n",
       "      <td>26.340380</td>\n",
       "      <td>15742200</td>\n",
       "    </tr>\n",
       "    <tr>\n",
       "      <th>3</th>\n",
       "      <td>2016-04-19</td>\n",
       "      <td>28.330000</td>\n",
       "      <td>28.440001</td>\n",
       "      <td>28.200001</td>\n",
       "      <td>28.330000</td>\n",
       "      <td>26.471191</td>\n",
       "      <td>20307700</td>\n",
       "    </tr>\n",
       "    <tr>\n",
       "      <th>4</th>\n",
       "      <td>2016-04-20</td>\n",
       "      <td>28.400000</td>\n",
       "      <td>28.680000</td>\n",
       "      <td>28.260000</td>\n",
       "      <td>28.440001</td>\n",
       "      <td>26.573977</td>\n",
       "      <td>19937800</td>\n",
       "    </tr>\n",
       "  </tbody>\n",
       "</table>\n",
       "</div>"
      ],
      "text/plain": [
       "         Date       Open       High        Low      Close  Adj Close    Volume\n",
       "0  2016-04-14  28.379999  28.400000  28.100000  28.250000  26.396441  15036700\n",
       "1  2016-04-15  28.100000  28.129999  27.730000  27.900000  26.069405  23804400\n",
       "2  2016-04-18  27.900000  28.250000  27.799999  28.190001  26.340380  15742200\n",
       "3  2016-04-19  28.330000  28.440001  28.200001  28.330000  26.471191  20307700\n",
       "4  2016-04-20  28.400000  28.680000  28.260000  28.440001  26.573977  19937800"
      ]
     },
     "execution_count": 7,
     "metadata": {},
     "output_type": "execute_result"
    }
   ],
   "source": [
    "datas.head()"
   ]
  },
  {
   "cell_type": "code",
   "execution_count": 8,
   "metadata": {
    "collapsed": false,
    "deletable": true,
    "editable": true,
    "scrolled": false
   },
   "outputs": [
    {
     "data": {
      "image/png": "[encoded data removed]",
      "text/plain": [
       "<matplotlib.figure.Figure at 0x7f46fdccb2d0>"
      ]
     },
     "metadata": {},
     "output_type": "display_data"
    },
    {
     "data": {
      "image/png": "[encoded data removed]",
      "text/plain": [
       "<matplotlib.figure.Figure at 0x7f46fb8e3f50>"
      ]
     },
     "metadata": {},
     "output_type": "display_data"
    },
    {
     "data": {
      "image/png": "[encoded data removed]",
      "text/plain": [
       "<matplotlib.figure.Figure at 0x7f46fb879f10>"
      ]
     },
     "metadata": {},
     "output_type": "display_data"
    },
    {
     "data": {
      "image/png": "[encoded data removed]",
      "text/plain": [
       "<matplotlib.figure.Figure at 0x7f46fb8b6e50>"
      ]
     },
     "metadata": {},
     "output_type": "display_data"
    }
   ],
   "source": [
    "if 1 : \n",
    "    \n",
    "    plt.figure(figsize=(15,10))\n",
    "    plt.title('Volume vs Dates')\n",
    "    plt.plot_date(datas.Date, datas.Volume)\n",
    "    plt.xlabel('Dates')\n",
    "    plt.ylabel('Volume')\n",
    "    plt.show()\n",
    "    \n",
    "    plt.figure(figsize=(15,10))\n",
    "    plt.title('Close vs Dates')\n",
    "    plt.xlabel('Dates')\n",
    "    plt.ylabel('Close')\n",
    "    plt.plot_date(datas.Date,datas.Close)\n",
    "    #plt.xticks(datas.Date)\n",
    "    plt.show()\n",
    "    \n",
    "    plt.figure(figsize=(15,10))\n",
    "    plt.title('Volume vs Close')\n",
    "    plt.xlabel('Close')\n",
    "    plt.ylabel('Volume')\n",
    "    plt.scatter(datas.Close,datas.Volume)\n",
    "    plt.show()\n",
    "    \n",
    "    # Добавлено для интереса 03/05/2018\n",
    "    plt.figure(figsize=(15,10))\n",
    "    plt.title('Close vs Dates')\n",
    "    plt.plot_date(datas.Date, np.log(datas.Close))\n",
    "    plt.xlabel('Dates')\n",
    "    plt.ylabel('xxx(Close)')\n",
    "    plt.show()\n",
    "    "
   ]
  },
  {
   "cell_type": "code",
   "execution_count": 9,
   "metadata": {
    "collapsed": false,
    "deletable": true,
    "editable": true
   },
   "outputs": [
    {
     "data": {
      "text/html": [
       "<div>\n",
       "<table border=\"1\" class=\"dataframe\">\n",
       "  <thead>\n",
       "    <tr style=\"text-align: right;\">\n",
       "      <th></th>\n",
       "      <th>Open</th>\n",
       "      <th>High</th>\n",
       "      <th>Low</th>\n",
       "      <th>Close</th>\n",
       "      <th>Adj Close</th>\n",
       "      <th>Volume</th>\n",
       "    </tr>\n",
       "  </thead>\n",
       "  <tbody>\n",
       "    <tr>\n",
       "      <th>count</th>\n",
       "      <td>504.000000</td>\n",
       "      <td>504.000000</td>\n",
       "      <td>504.000000</td>\n",
       "      <td>504.000000</td>\n",
       "      <td>504.000000</td>\n",
       "      <td>5.040000e+02</td>\n",
       "    </tr>\n",
       "    <tr>\n",
       "      <th>mean</th>\n",
       "      <td>33.238710</td>\n",
       "      <td>33.490774</td>\n",
       "      <td>33.002679</td>\n",
       "      <td>33.252262</td>\n",
       "      <td>32.132944</td>\n",
       "      <td>2.230747e+07</td>\n",
       "    </tr>\n",
       "    <tr>\n",
       "      <th>std</th>\n",
       "      <td>4.399879</td>\n",
       "      <td>4.485820</td>\n",
       "      <td>4.310628</td>\n",
       "      <td>4.383890</td>\n",
       "      <td>4.822270</td>\n",
       "      <td>9.182806e+06</td>\n",
       "    </tr>\n",
       "    <tr>\n",
       "      <th>min</th>\n",
       "      <td>26.190001</td>\n",
       "      <td>26.540001</td>\n",
       "      <td>25.809999</td>\n",
       "      <td>26.209999</td>\n",
       "      <td>24.490292</td>\n",
       "      <td>6.155800e+06</td>\n",
       "    </tr>\n",
       "    <tr>\n",
       "      <th>25%</th>\n",
       "      <td>30.597500</td>\n",
       "      <td>30.747500</td>\n",
       "      <td>30.360001</td>\n",
       "      <td>30.547500</td>\n",
       "      <td>28.976646</td>\n",
       "      <td>1.666962e+07</td>\n",
       "    </tr>\n",
       "    <tr>\n",
       "      <th>50%</th>\n",
       "      <td>31.685001</td>\n",
       "      <td>31.870001</td>\n",
       "      <td>31.459999</td>\n",
       "      <td>31.655000</td>\n",
       "      <td>30.727298</td>\n",
       "      <td>2.037380e+07</td>\n",
       "    </tr>\n",
       "    <tr>\n",
       "      <th>75%</th>\n",
       "      <td>34.202500</td>\n",
       "      <td>34.342500</td>\n",
       "      <td>34.029999</td>\n",
       "      <td>34.230000</td>\n",
       "      <td>33.136553</td>\n",
       "      <td>2.514458e+07</td>\n",
       "    </tr>\n",
       "    <tr>\n",
       "      <th>max</th>\n",
       "      <td>45.779999</td>\n",
       "      <td>46.160000</td>\n",
       "      <td>45.400002</td>\n",
       "      <td>45.549999</td>\n",
       "      <td>45.186745</td>\n",
       "      <td>8.550050e+07</td>\n",
       "    </tr>\n",
       "  </tbody>\n",
       "</table>\n",
       "</div>"
      ],
      "text/plain": [
       "             Open        High         Low       Close   Adj Close  \\\n",
       "count  504.000000  504.000000  504.000000  504.000000  504.000000   \n",
       "mean    33.238710   33.490774   33.002679   33.252262   32.132944   \n",
       "std      4.399879    4.485820    4.310628    4.383890    4.822270   \n",
       "min     26.190001   26.540001   25.809999   26.209999   24.490292   \n",
       "25%     30.597500   30.747500   30.360001   30.547500   28.976646   \n",
       "50%     31.685001   31.870001   31.459999   31.655000   30.727298   \n",
       "75%     34.202500   34.342500   34.029999   34.230000   33.136553   \n",
       "max     45.779999   46.160000   45.400002   45.549999   45.186745   \n",
       "\n",
       "             Volume  \n",
       "count  5.040000e+02  \n",
       "mean   2.230747e+07  \n",
       "std    9.182806e+06  \n",
       "min    6.155800e+06  \n",
       "25%    1.666962e+07  \n",
       "50%    2.037380e+07  \n",
       "75%    2.514458e+07  \n",
       "max    8.550050e+07  "
      ]
     },
     "execution_count": 9,
     "metadata": {},
     "output_type": "execute_result"
    }
   ],
   "source": [
    "datas.describe()"
   ]
  },
  {
   "cell_type": "code",
   "execution_count": null,
   "metadata": {
    "collapsed": false,
    "deletable": true,
    "editable": true
   },
   "outputs": [],
   "source": []
  },
  {
   "cell_type": "code",
   "execution_count": 10,
   "metadata": {
    "collapsed": false,
    "deletable": true,
    "editable": true
   },
   "outputs": [
    {
     "data": {
      "text/html": [
       "<div>\n",
       "<table border=\"1\" class=\"dataframe\">\n",
       "  <thead>\n",
       "    <tr style=\"text-align: right;\">\n",
       "      <th></th>\n",
       "      <th>Date</th>\n",
       "      <th>Open</th>\n",
       "      <th>High</th>\n",
       "      <th>Low</th>\n",
       "      <th>Close</th>\n",
       "      <th>Adj Close</th>\n",
       "      <th>Volume</th>\n",
       "      <th>nn</th>\n",
       "      <th>yy</th>\n",
       "    </tr>\n",
       "  </thead>\n",
       "  <tbody>\n",
       "    <tr>\n",
       "      <th>0</th>\n",
       "      <td>2016-04-14</td>\n",
       "      <td>28.379999</td>\n",
       "      <td>28.400000</td>\n",
       "      <td>28.100000</td>\n",
       "      <td>28.250000</td>\n",
       "      <td>26.396441</td>\n",
       "      <td>15036700</td>\n",
       "      <td>13</td>\n",
       "      <td>105</td>\n",
       "    </tr>\n",
       "    <tr>\n",
       "      <th>1</th>\n",
       "      <td>2016-04-15</td>\n",
       "      <td>28.100000</td>\n",
       "      <td>28.129999</td>\n",
       "      <td>27.730000</td>\n",
       "      <td>27.900000</td>\n",
       "      <td>26.069405</td>\n",
       "      <td>23804400</td>\n",
       "      <td>14</td>\n",
       "      <td>106</td>\n",
       "    </tr>\n",
       "    <tr>\n",
       "      <th>2</th>\n",
       "      <td>2016-04-18</td>\n",
       "      <td>27.900000</td>\n",
       "      <td>28.250000</td>\n",
       "      <td>27.799999</td>\n",
       "      <td>28.190001</td>\n",
       "      <td>26.340380</td>\n",
       "      <td>15742200</td>\n",
       "      <td>17</td>\n",
       "      <td>109</td>\n",
       "    </tr>\n",
       "    <tr>\n",
       "      <th>3</th>\n",
       "      <td>2016-04-19</td>\n",
       "      <td>28.330000</td>\n",
       "      <td>28.440001</td>\n",
       "      <td>28.200001</td>\n",
       "      <td>28.330000</td>\n",
       "      <td>26.471191</td>\n",
       "      <td>20307700</td>\n",
       "      <td>18</td>\n",
       "      <td>110</td>\n",
       "    </tr>\n",
       "    <tr>\n",
       "      <th>4</th>\n",
       "      <td>2016-04-20</td>\n",
       "      <td>28.400000</td>\n",
       "      <td>28.680000</td>\n",
       "      <td>28.260000</td>\n",
       "      <td>28.440001</td>\n",
       "      <td>26.573977</td>\n",
       "      <td>19937800</td>\n",
       "      <td>19</td>\n",
       "      <td>111</td>\n",
       "    </tr>\n",
       "  </tbody>\n",
       "</table>\n",
       "</div>"
      ],
      "text/plain": [
       "        Date       Open       High        Low      Close  Adj Close    Volume  \\\n",
       "0 2016-04-14  28.379999  28.400000  28.100000  28.250000  26.396441  15036700   \n",
       "1 2016-04-15  28.100000  28.129999  27.730000  27.900000  26.069405  23804400   \n",
       "2 2016-04-18  27.900000  28.250000  27.799999  28.190001  26.340380  15742200   \n",
       "3 2016-04-19  28.330000  28.440001  28.200001  28.330000  26.471191  20307700   \n",
       "4 2016-04-20  28.400000  28.680000  28.260000  28.440001  26.573977  19937800   \n",
       "\n",
       "   nn   yy  \n",
       "0  13  105  \n",
       "1  14  106  \n",
       "2  17  109  \n",
       "3  18  110  \n",
       "4  19  111  "
      ]
     },
     "execution_count": 10,
     "metadata": {},
     "output_type": "execute_result"
    }
   ],
   "source": [
    "#\n",
    "# Делаем более удобный формат данных для регрессии, чтобы там не умничать\n",
    "#\n",
    "# Все то же самое, только Date - другой тип данных\n",
    "# nn - отсчет от 1 апреля 2016\n",
    "# yy - отсчет от начала года, на всякий случай (тренд и видимо сезонность с расширением амплитуды и тд)\n",
    "#\n",
    "#\n",
    "\n",
    "ddd = datas.copy()\n",
    "\n",
    "ddd['Date'] = pd.to_datetime(ddd.Date)\n",
    "\n",
    "ddd['nn'] = '2016-04-01' ;#datetime.datetime.strptime('2016-01-01', \"%Y-%m-%d\").date()\n",
    "ddd['nn'] = pd.to_datetime(ddd.nn)\n",
    "ddd['nn'] = ddd['Date'].subtract(ddd['nn'])\n",
    "ddd['nn'] = ddd['nn'].dt.days\n",
    "\n",
    "ddd['yy'] = ddd.Date.dt.dayofyear\n",
    "\n",
    "ddd.head()"
   ]
  },
  {
   "cell_type": "code",
   "execution_count": 11,
   "metadata": {
    "collapsed": false,
    "deletable": true,
    "editable": true
   },
   "outputs": [
    {
     "data": {
      "text/html": [
       "<div>\n",
       "<table border=\"1\" class=\"dataframe\">\n",
       "  <thead>\n",
       "    <tr style=\"text-align: right;\">\n",
       "      <th></th>\n",
       "      <th>Open</th>\n",
       "      <th>High</th>\n",
       "      <th>Low</th>\n",
       "      <th>Close</th>\n",
       "      <th>Adj Close</th>\n",
       "      <th>Volume</th>\n",
       "      <th>nn</th>\n",
       "      <th>yy</th>\n",
       "    </tr>\n",
       "  </thead>\n",
       "  <tbody>\n",
       "    <tr>\n",
       "      <th>count</th>\n",
       "      <td>504.000000</td>\n",
       "      <td>504.000000</td>\n",
       "      <td>504.000000</td>\n",
       "      <td>504.000000</td>\n",
       "      <td>504.000000</td>\n",
       "      <td>5.040000e+02</td>\n",
       "      <td>504.000000</td>\n",
       "      <td>504.000000</td>\n",
       "    </tr>\n",
       "    <tr>\n",
       "      <th>mean</th>\n",
       "      <td>33.238710</td>\n",
       "      <td>33.490774</td>\n",
       "      <td>33.002679</td>\n",
       "      <td>33.252262</td>\n",
       "      <td>32.132944</td>\n",
       "      <td>2.230747e+07</td>\n",
       "      <td>376.853175</td>\n",
       "      <td>183.601190</td>\n",
       "    </tr>\n",
       "    <tr>\n",
       "      <th>std</th>\n",
       "      <td>4.399879</td>\n",
       "      <td>4.485820</td>\n",
       "      <td>4.310628</td>\n",
       "      <td>4.383890</td>\n",
       "      <td>4.822270</td>\n",
       "      <td>9.182806e+06</td>\n",
       "      <td>211.213060</td>\n",
       "      <td>104.791954</td>\n",
       "    </tr>\n",
       "    <tr>\n",
       "      <th>min</th>\n",
       "      <td>26.190001</td>\n",
       "      <td>26.540001</td>\n",
       "      <td>25.809999</td>\n",
       "      <td>26.209999</td>\n",
       "      <td>24.490292</td>\n",
       "      <td>6.155800e+06</td>\n",
       "      <td>13.000000</td>\n",
       "      <td>2.000000</td>\n",
       "    </tr>\n",
       "    <tr>\n",
       "      <th>25%</th>\n",
       "      <td>30.597500</td>\n",
       "      <td>30.747500</td>\n",
       "      <td>30.360001</td>\n",
       "      <td>30.547500</td>\n",
       "      <td>28.976646</td>\n",
       "      <td>1.666962e+07</td>\n",
       "      <td>193.750000</td>\n",
       "      <td>93.750000</td>\n",
       "    </tr>\n",
       "    <tr>\n",
       "      <th>50%</th>\n",
       "      <td>31.685001</td>\n",
       "      <td>31.870001</td>\n",
       "      <td>31.459999</td>\n",
       "      <td>31.655000</td>\n",
       "      <td>30.727298</td>\n",
       "      <td>2.037380e+07</td>\n",
       "      <td>376.500000</td>\n",
       "      <td>183.500000</td>\n",
       "    </tr>\n",
       "    <tr>\n",
       "      <th>75%</th>\n",
       "      <td>34.202500</td>\n",
       "      <td>34.342500</td>\n",
       "      <td>34.029999</td>\n",
       "      <td>34.230000</td>\n",
       "      <td>33.136553</td>\n",
       "      <td>2.514458e+07</td>\n",
       "      <td>558.250000</td>\n",
       "      <td>274.250000</td>\n",
       "    </tr>\n",
       "    <tr>\n",
       "      <th>max</th>\n",
       "      <td>45.779999</td>\n",
       "      <td>46.160000</td>\n",
       "      <td>45.400002</td>\n",
       "      <td>45.549999</td>\n",
       "      <td>45.186745</td>\n",
       "      <td>8.550050e+07</td>\n",
       "      <td>742.000000</td>\n",
       "      <td>365.000000</td>\n",
       "    </tr>\n",
       "  </tbody>\n",
       "</table>\n",
       "</div>"
      ],
      "text/plain": [
       "             Open        High         Low       Close   Adj Close  \\\n",
       "count  504.000000  504.000000  504.000000  504.000000  504.000000   \n",
       "mean    33.238710   33.490774   33.002679   33.252262   32.132944   \n",
       "std      4.399879    4.485820    4.310628    4.383890    4.822270   \n",
       "min     26.190001   26.540001   25.809999   26.209999   24.490292   \n",
       "25%     30.597500   30.747500   30.360001   30.547500   28.976646   \n",
       "50%     31.685001   31.870001   31.459999   31.655000   30.727298   \n",
       "75%     34.202500   34.342500   34.029999   34.230000   33.136553   \n",
       "max     45.779999   46.160000   45.400002   45.549999   45.186745   \n",
       "\n",
       "             Volume          nn          yy  \n",
       "count  5.040000e+02  504.000000  504.000000  \n",
       "mean   2.230747e+07  376.853175  183.601190  \n",
       "std    9.182806e+06  211.213060  104.791954  \n",
       "min    6.155800e+06   13.000000    2.000000  \n",
       "25%    1.666962e+07  193.750000   93.750000  \n",
       "50%    2.037380e+07  376.500000  183.500000  \n",
       "75%    2.514458e+07  558.250000  274.250000  \n",
       "max    8.550050e+07  742.000000  365.000000  "
      ]
     },
     "execution_count": 11,
     "metadata": {},
     "output_type": "execute_result"
    }
   ],
   "source": [
    "ddd.describe()"
   ]
  },
  {
   "cell_type": "code",
   "execution_count": null,
   "metadata": {
    "collapsed": false,
    "deletable": true,
    "editable": true
   },
   "outputs": [],
   "source": []
  },
  {
   "cell_type": "code",
   "execution_count": 12,
   "metadata": {
    "collapsed": false,
    "deletable": true,
    "editable": true,
    "scrolled": false
   },
   "outputs": [
    {
     "name": "stdout",
     "output_type": "stream",
     "text": [
      "2018-05-03 16:09:49.215672 Loss = [338.19342] Step #1 A = [[0.8574144]] b = [[-0.04882344]]\n",
      "2018-05-03 16:09:50.057691 Loss = [13.553401] Step #1000 A = [[0.07266888]] b = [[-0.65812534]]\n",
      "2018-05-03 16:09:50.883548 Loss = [12.945867] Step #2000 A = [[0.07092442]] b = [[0.14632541]]\n",
      "2018-05-03 16:09:51.705248 Loss = [12.523337] Step #3000 A = [[0.06906639]] b = [[1.0696205]]\n",
      "2018-05-03 16:09:52.544929 Loss = [12.78704] Step #4000 A = [[0.06714949]] b = [[2.0386505]]\n",
      "2018-05-03 16:09:53.368688 Loss = [11.438458] Step #5000 A = [[0.06549206]] b = [[3.0253391]]\n",
      "2018-05-03 16:09:54.194804 Loss = [11.49263] Step #6000 A = [[0.06341969]] b = [[4.0187206]]\n",
      "2018-05-03 16:09:55.027558 Loss = [10.655064] Step #7000 A = [[0.06106829]] b = [[5.01377]]\n",
      "2018-05-03 16:09:55.853405 Loss = [10.593599] Step #8000 A = [[0.05946599]] b = [[6.0085583]]\n",
      "2018-05-03 16:09:56.679990 Loss = [9.854308] Step #9000 A = [[0.05664978]] b = [[7.004275]]\n",
      "2018-05-03 16:09:57.507573 Loss = [9.224533] Step #10000 A = [[0.05484981]] b = [[7.9991684]]\n",
      "2018-05-03 16:09:58.340688 Loss = [9.119779] Step #11000 A = [[0.05266215]] b = [[8.9922905]]\n",
      "2018-05-03 16:09:59.169853 Loss = [8.661886] Step #12000 A = [[0.05067103]] b = [[9.986169]]\n",
      "2018-05-03 16:09:59.998859 Loss = [8.246668] Step #13000 A = [[0.0492736]] b = [[10.977922]]\n",
      "2018-05-03 16:10:00.834872 Loss = [7.4473934] Step #14000 A = [[0.04688882]] b = [[11.970133]]\n",
      "2018-05-03 16:10:01.666085 Loss = [7.0636234] Step #15000 A = [[0.04550091]] b = [[12.961458]]\n",
      "2018-05-03 16:10:02.494144 Loss = [6.881036] Step #16000 A = [[0.04345453]] b = [[13.951194]]\n",
      "2018-05-03 16:10:03.324751 Loss = [6.363751] Step #17000 A = [[0.04188801]] b = [[14.938964]]\n",
      "2018-05-03 16:10:04.147162 Loss = [5.7787385] Step #18000 A = [[0.03926523]] b = [[15.924208]]\n",
      "2018-05-03 16:10:04.983884 Loss = [5.430744] Step #19000 A = [[0.03703115]] b = [[16.907143]]\n",
      "2018-05-03 16:10:05.811532 Loss = [4.9940157] Step #20000 A = [[0.03466339]] b = [[17.88665]]\n",
      "2018-05-03 16:10:06.644967 Loss = [4.5807304] Step #21000 A = [[0.03279144]] b = [[18.856962]]\n",
      "2018-05-03 16:10:07.471495 Loss = [4.036175] Step #22000 A = [[0.03126382]] b = [[19.821093]]\n",
      "2018-05-03 16:10:08.301699 Loss = [3.7658813] Step #23000 A = [[0.02866819]] b = [[20.773504]]\n",
      "2018-05-03 16:10:09.131281 Loss = [3.4051306] Step #24000 A = [[0.02762918]] b = [[21.708958]]\n",
      "2018-05-03 16:10:09.960102 Loss = [3.1857448] Step #25000 A = [[0.02589194]] b = [[22.61986]]\n",
      "2018-05-03 16:10:10.792098 Loss = [2.9401836] Step #26000 A = [[0.0237816]] b = [[23.495333]]\n",
      "2018-05-03 16:10:11.619584 Loss = [2.7579992] Step #27000 A = [[0.02205433]] b = [[24.313124]]\n",
      "2018-05-03 16:10:12.453445 Loss = [2.6281514] Step #28000 A = [[0.02004614]] b = [[25.05744]]\n",
      "2018-05-03 16:10:13.282642 Loss = [2.4037957] Step #29000 A = [[0.01916112]] b = [[25.687424]]\n",
      "2018-05-03 16:10:14.116748 Loss = [2.3726592] Step #30000 A = [[0.01889467]] b = [[26.168446]]\n",
      "2018-05-03 16:10:14.955129 Loss = [2.2956252] Step #31000 A = [[0.01769214]] b = [[26.47527]]\n",
      "2018-05-03 16:10:15.781566 Loss = [2.3565118] Step #32000 A = [[0.0171895]] b = [[26.621986]]\n",
      "2018-05-03 16:10:16.616107 Loss = [2.3662088] Step #33000 A = [[0.01775185]] b = [[26.67095]]\n",
      "2018-05-03 16:10:17.441632 Loss = [2.4492626] Step #34000 A = [[0.0175476]] b = [[26.692825]]\n",
      "2018-05-03 16:10:17.964192 \t34626 lr-->0.0001 (loss_min=2.10594153404 current 2.51198172569)\n",
      "2018-05-03 16:10:18.273212 Loss = [2.4492636] Step #35000 A = [[0.01787859]] b = [[26.692234]]\n",
      "2018-05-03 16:10:19.099564 Loss = [2.4209955] Step #36000 A = [[0.01721852]] b = [[26.700735]]\n",
      "2018-05-03 16:10:19.928853 Loss = [2.4132857] Step #37000 A = [[0.01740158]] b = [[26.702106]]\n",
      "2018-05-03 16:10:20.765669 Loss = [2.501411] Step #38000 A = [[0.01741212]] b = [[26.695496]]\n",
      "2018-05-03 16:10:21.593556 Loss = [2.3482823] Step #39000 A = [[0.01701934]] b = [[26.696836]]\n",
      "2018-05-03 16:10:22.420605 Loss = [2.5248437] Step #40000 A = [[0.01738117]] b = [[26.701126]]\n",
      "2018-05-03 16:10:23.043292 \t40749 lr-->1e-05 (loss_min=2.0886349678 current 2.34637832642)\n",
      "2018-05-03 16:10:23.254379 Loss = [2.4622366] Step #41000 A = [[0.01800943]] b = [[26.709194]]\n",
      "2018-05-03 16:10:24.084664 Loss = [2.374846] Step #42000 A = [[0.01757264]] b = [[26.699104]]\n",
      "2018-05-03 16:10:24.915580 Loss = [2.3160288] Step #43000 A = [[0.01714667]] b = [[26.698145]]\n",
      "2018-05-03 16:10:25.750821 Loss = [2.316131] Step #44000 A = [[0.01778167]] b = [[26.695925]]\n",
      "2018-05-03 16:10:26.585731 Loss = [2.4695141] Step #45000 A = [[0.01747421]] b = [[26.699705]]\n",
      "2018-05-03 16:10:27.341377 \t45904 lr-->1e-06 (loss_min=2.11517381668 current 2.39747977257)\n",
      "2018-05-03 16:10:27.420539 Loss = [2.374323] Step #46000 A = [[0.01785883]] b = [[26.700106]]\n",
      "2018-05-03 16:10:28.246698 Loss = [2.2692082] Step #47000 A = [[0.01750997]] b = [[26.697603]]\n",
      "2018-05-03 16:10:29.073193 Loss = [2.4151034] Step #48000 A = [[0.01773681]] b = [[26.693758]]\n",
      "2018-05-03 16:10:29.912592 Loss = [2.4177127] Step #49000 A = [[0.01737006]] b = [[26.699022]]\n",
      "2018-05-03 16:10:30.744234 Loss = [2.4422107] Step #50000 A = [[0.01766003]] b = [[26.70156]]\n",
      "2018-05-03 16:10:31.576015 Loss = [2.2892988] Step #51000 A = [[0.01657706]] b = [[26.705101]]\n",
      "2018-05-03 16:10:32.054471 \t51573 lr-->1e-07 (loss_min=2.12975239754 current 2.38698196411)\n",
      "2018-05-03 16:10:32.411960 Loss = [2.5203571] Step #52000 A = [[0.01721325]] b = [[26.69836]]\n",
      "2018-05-03 16:10:33.249963 Loss = [2.314001] Step #53000 A = [[0.01743925]] b = [[26.697784]]\n",
      "2018-05-03 16:10:34.080683 Loss = [2.3508582] Step #54000 A = [[0.01732811]] b = [[26.699074]]\n",
      "2018-05-03 16:10:34.912467 Loss = [2.362411] Step #55000 A = [[0.01703167]] b = [[26.704035]]\n",
      "2018-05-03 16:10:35.118936 \t55247 lr-->1e-08 (loss_min=2.10072827339 current 2.30804777145)\n",
      "2018-05-03 16:10:35.749257 Loss = [2.3065488] Step #56000 A = [[0.01724659]] b = [[26.69886]]\n",
      "2018-05-03 16:10:36.582426 Loss = [2.3620539] Step #57000 A = [[0.01735322]] b = [[26.702545]]\n",
      "2018-05-03 16:10:37.413730 Loss = [2.341479] Step #58000 A = [[0.01730469]] b = [[26.698158]]\n",
      "2018-05-03 16:10:38.243047 Loss = [2.4283845] Step #59000 A = [[0.01746606]] b = [[26.701672]]\n",
      "2018-05-03 16:10:39.015806 \t59930 lr-->1e-09 (loss_min=2.11053872108 current 2.34233427048)\n",
      "2018-05-03 16:10:39.073311 Loss = [2.439055] Step #60000 A = [[0.01722251]] b = [[26.697716]]\n",
      "2018-05-03 16:10:39.903626 Loss = [2.3546076] Step #61000 A = [[0.01678871]] b = [[26.698671]]\n",
      "2018-05-03 16:10:40.810082 Loss = [2.5485687] Step #62000 A = [[0.01739979]] b = [[26.697105]]\n",
      "2018-05-03 16:10:41.326347 The End\n"
     ]
    }
   ],
   "source": [
    "# LASSO and Ridge Regression\n",
    "# \n",
    "# This function shows how to use TensorFlow to solve LASSO or Ridge regression for \n",
    "#\n",
    "# y = Ax + b\n",
    "# \n",
    "# Use the datas (nn or yy and Close) \n",
    "#   y = ddd.Close \n",
    "#   x = ddd.nn or ddd.yy field (nn - offset from 2016-04-01, yy offset from year begin)\n",
    "# \n",
    "# \n",
    "\n",
    "# Specify 'Ridge' or 'LASSO', may be 'None'\n",
    "regression_type = 'None'\n",
    "#regression_type = 'LASSO'\n",
    "regression_type = 'Ridge'\n",
    "\n",
    "# clear out old graph\n",
    "ops.reset_default_graph()\n",
    "\n",
    "# Create graph\n",
    "sess = tf.Session()\n",
    "\n",
    "###\n",
    "# Get datas\n",
    "###\n",
    "\n",
    "#x_vals = ddd.yy.values\n",
    "x_vals = ddd.nn.values\n",
    "y_vals = ddd.Close.values\n",
    "#y_vals = np.log(ddd.Close.values) # пробный забег 03/05/2018\n",
    "\n",
    "# Normalization y_vals для интереса проверим нормализацию\n",
    "\n",
    "if 0 :\n",
    "    y_min  = y_vals.min()\n",
    "    y_mul  = (y_vals.max()-y_vals.min())\n",
    "\n",
    "    y_vals = (y_vals-y_min)/y_mul\n",
    "\n",
    "###\n",
    "# Model Parameters\n",
    "###\n",
    "\n",
    "# Declare batch size (just in case)\n",
    "batch_size = 500\n",
    "\n",
    "# Initialize placeholders\n",
    "x_data   = tf.placeholder(shape=[None, 1], dtype=tf.float32)\n",
    "y_target = tf.placeholder(shape=[None, 1], dtype=tf.float32)\n",
    "\n",
    "# make results reproducible постоянная полка убрана/не убрана 03/05/2018\n",
    "if 0 :\n",
    "    seed = 250\n",
    "    np.random.seed(seed)\n",
    "    tf.set_random_seed(seed)\n",
    "\n",
    "# Create variables for linear regression\n",
    "A = tf.Variable(tf.random_normal(shape=[1,1]))\n",
    "b = tf.Variable(tf.random_normal(shape=[1,1]))\n",
    "\n",
    "# Declare model operations\n",
    "model_output = tf.add(tf.matmul(x_data, A), b)\n",
    "\n",
    "loss = tf.expand_dims(tf.reduce_mean(tf.square(y_target - model_output)),0) # For None or Empty case \n",
    "\n",
    "###\n",
    "# Loss Functions\n",
    "###\n",
    "\n",
    "# Select appropriate loss function based on regression type\n",
    "\n",
    "if regression_type == 'LASSO':\n",
    "    # Declare Lasso loss function\n",
    "    # Lasso Loss = L2_Loss + heavyside_step,\n",
    "    # Where heavyside_step ~ 0 if A < constant, otherwise ~ 99\n",
    "    lasso_param = tf.constant(0.9)\n",
    "    heavyside_step = tf.truediv(1., tf.add(1., tf.exp(tf.multiply(-50., tf.subtract(A, lasso_param)))))\n",
    "    regularization_param = tf.multiply(heavyside_step, 99.)\n",
    "    loss = tf.add(tf.reduce_mean(tf.square(y_target - model_output)), regularization_param)\n",
    "\n",
    "elif regression_type == 'Ridge':\n",
    "    # Declare the Ridge loss function\n",
    "    # Ridge loss = L2_loss + L2 norm of slope\n",
    "    ridge_param = tf.constant(1.0)\n",
    "    ridge_loss  = tf.reduce_mean(tf.square(A))\n",
    "    #ridge_loss = tf.reduce_mean(tf.add(tf.square(A),tf.square(b)))\n",
    "    #ridge_loss = tf.reduce_mean(tf.square(tf.concat([A,b],1)))\n",
    "    loss = tf.expand_dims(tf.add(tf.sqrt(tf.reduce_mean(tf.square(y_target - model_output))), \n",
    "                                 tf.sqrt(tf.multiply(ridge_param, ridge_loss))), 0)\n",
    "    \n",
    "else:\n",
    "    print('Invalid regression_type parameter value') #,file=sys.stderr)\n",
    "\n",
    "\n",
    "###\n",
    "# Optimizer изменен на AdamOptimizer 03|05|2018\n",
    "###\n",
    "\n",
    "# Declare optimizer\n",
    "#lr     = 0.000001; my_opt = tf.train.GradientDescentOptimizer(lr)\n",
    "\n",
    "lr     = 0.001; my_opt = tf.train.AdamOptimizer(lr)\n",
    "\n",
    "train_step = my_opt.minimize(loss)\n",
    "\n",
    "###\n",
    "# Run regression\n",
    "###\n",
    "\n",
    "# Initialize variables\n",
    "init = tf.global_variables_initializer()\n",
    "sess.run(init)\n",
    "\n",
    "# Training loop 03/05/2018 изменены параметры для оценки сходимости и останова в связи с новым оптимизатором \n",
    "booooms  = 1500000\n",
    "loss_vec = []\n",
    "AB_vec   = []\n",
    "\n",
    "loss_min = 1e10\n",
    "loss_step= 2500\n",
    "lr_min   = 1e-8\n",
    "\n",
    "loss_temp= 0\n",
    "\n",
    "for i in range(booooms) :\n",
    "    \n",
    "    rand_index = np.random.choice(len(x_vals), size=batch_size)\n",
    "    rand_x = np.transpose([x_vals[rand_index]])\n",
    "    rand_y = np.transpose([y_vals[rand_index]])\n",
    "    \n",
    "    # изменено для простоты и чистоты эксперимента 03/05/2018\n",
    "    _, temp_loss, ANew, bNew = sess.run([train_step,loss,A,b], \n",
    "                                               feed_dict={x_data: rand_x, y_target: rand_y})\n",
    "    \n",
    "    loss_vec.append(temp_loss[0])\n",
    "    AB_vec.append([ANew,bNew])\n",
    "    \n",
    "    # 03/05/2018 Добавка для ранего выхода из оптимизации и смена lr (хотя не уверен, что смена lr срабатывает)\n",
    "    if (loss_min < temp_loss[0]) :\n",
    "        loss_temp += 1\n",
    "        if loss_temp >= loss_step :\n",
    "            if lr<=lr_min : break\n",
    "            loss_temp = 0\n",
    "            if lr>lr_min :\n",
    "                lr     = lr*0.1 # learning rate\n",
    "                my_opt = tf.train.AdamOptimizer(lr)\n",
    "                print('{} \\t{} lr-->{} (loss_min={} current {})'.\n",
    "                      format(datetime.datetime.now(),i,lr,loss_min,temp_loss[0]))\n",
    "                #init = tf.global_variables_initializer()\n",
    "                #sess.run(init)\n",
    "                loss_min = 1e10\n",
    "        \n",
    "    if loss_min > temp_loss[0] : loss_min, loss_temp = temp_loss[0], 0\n",
    "    \n",
    "    if (i+1)%1000==0 or i==0:\n",
    "        print(datetime.datetime.now(),\n",
    "              'Loss = ' + str(temp_loss), \n",
    "              'Step #' + str(i+1) + ' A = ' + str(sess.run(A)) + ' b = ' + str(sess.run(b)))\n",
    "\n",
    "sess.close()\n",
    "print(datetime.datetime.now(),'The End')\n"
   ]
  },
  {
   "cell_type": "code",
   "execution_count": null,
   "metadata": {
    "collapsed": true,
    "deletable": true,
    "editable": true
   },
   "outputs": [],
   "source": []
  },
  {
   "cell_type": "code",
   "execution_count": null,
   "metadata": {
    "collapsed": true,
    "deletable": true,
    "editable": true
   },
   "outputs": [],
   "source": []
  },
  {
   "cell_type": "code",
   "execution_count": 13,
   "metadata": {
    "collapsed": true,
    "deletable": true,
    "editable": true
   },
   "outputs": [],
   "source": [
    "# Best regression results "
   ]
  },
  {
   "cell_type": "code",
   "execution_count": 14,
   "metadata": {
    "collapsed": false,
    "deletable": true,
    "editable": true
   },
   "outputs": [
    {
     "name": "stdout",
     "output_type": "stream",
     "text": [
      "Best Results\n",
      "loss min (#,value) = 38249 2.088635 \n",
      " A,b = [0.01767892] [26.695631]\n"
     ]
    }
   ],
   "source": [
    "loss_argmin = np.array(loss_vec).argmin()\n",
    "print('Best Results')\n",
    "print('loss min (#,value) =',loss_argmin, loss_vec[loss_argmin], '\\n', \n",
    "      'A,b =', AB_vec[loss_argmin][0][0], AB_vec[loss_argmin][1][0])"
   ]
  },
  {
   "cell_type": "code",
   "execution_count": null,
   "metadata": {
    "collapsed": true,
    "deletable": true,
    "editable": true
   },
   "outputs": [],
   "source": []
  },
  {
   "cell_type": "code",
   "execution_count": 15,
   "metadata": {
    "collapsed": false,
    "deletable": true,
    "editable": true,
    "scrolled": false
   },
   "outputs": [
    {
     "data": {
      "image/png": "[encoded data removed]",
      "text/plain": [
       "<matplotlib.figure.Figure at 0x7f46fbb432d0>"
      ]
     },
     "metadata": {},
     "output_type": "display_data"
    },
    {
     "data": {
      "image/png": "[encoded data removed]",
      "text/plain": [
       "<matplotlib.figure.Figure at 0x7f46fbb43750>"
      ]
     },
     "metadata": {},
     "output_type": "display_data"
    }
   ],
   "source": [
    "###\n",
    "# Extract regression results\n",
    "###\n",
    "\n",
    "# Calculate the optimal coefficients\n",
    "[slope] = AB_vec[loss_argmin][0]\n",
    "[y_intercept] = AB_vec[loss_argmin][1]\n",
    "\n",
    "# Get best fit line\n",
    "best_fit = [slope*i+y_intercept for i in x_vals]\n",
    "\n",
    "###\n",
    "# Plot results\n",
    "###\n",
    "\n",
    "# Plot regression line against data points\n",
    "plt.figure(figsize=(15,6))\n",
    "plt.plot(x_vals, y_vals, 'o', label='Data Points')\n",
    "plt.plot(x_vals, best_fit, 'r-', label='Best fit line', linewidth=3)\n",
    "plt.legend(loc='upper left')\n",
    "plt.title('Close vs Dates')\n",
    "plt.xlabel('Dates')\n",
    "plt.ylabel('Close values')\n",
    "plt.show()\n",
    "\n",
    "# Plot loss over time\n",
    "plt.figure(figsize=(15,6))\n",
    "plt.plot(loss_vec, 'k-')\n",
    "plt.title(regression_type + ' Loss per Generation')\n",
    "plt.xlabel('Generation')\n",
    "plt.ylabel('Loss')\n",
    "plt.show()\n"
   ]
  },
  {
   "cell_type": "code",
   "execution_count": 16,
   "metadata": {
    "collapsed": false,
    "deletable": true,
    "editable": true
   },
   "outputs": [
    {
     "name": "stdout",
     "output_type": "stream",
     "text": [
      "Results: (TensorFlow ( Ridge ))\n",
      "\tA= [0.01767892] b= [26.695631]\n",
      "Regression accurancy:\n",
      "\tR2 \t= 0.7063816305815823 \n",
      "\tMSE \t= 5.631705158506222\n"
     ]
    }
   ],
   "source": [
    "print('Results: (TensorFlow (',regression_type,'))')\n",
    "print('\\tA=',slope,'b=',y_intercept)\n",
    "print('Regression accurancy:')\n",
    "print('\\tR2 \\t=',sklearn.metrics.r2_score(y_vals,best_fit),\n",
    "      '\\n\\tMSE \\t=',sklearn.metrics.mean_squared_error(y_vals,best_fit))"
   ]
  },
  {
   "cell_type": "code",
   "execution_count": 17,
   "metadata": {
    "collapsed": true,
    "deletable": true,
    "editable": true
   },
   "outputs": [],
   "source": [
    "# The End :)"
   ]
  },
  {
   "cell_type": "code",
   "execution_count": 18,
   "metadata": {
    "collapsed": true,
    "deletable": true,
    "editable": true
   },
   "outputs": [],
   "source": [
    "#------------ sklearn --------------- sklearn results ---------------- Compare with sklearn regression Ridge"
   ]
  },
  {
   "cell_type": "code",
   "execution_count": 19,
   "metadata": {
    "collapsed": false,
    "deletable": true,
    "editable": true
   },
   "outputs": [
    {
     "name": "stdout",
     "output_type": "stream",
     "text": [
      "Ridge(alpha=1.0, copy_X=True, fit_intercept=True, max_iter=None,\n",
      "   normalize=False, random_state=None, solver='auto', tol=0.001)\n",
      "A= [0.01745316] b= 26.674984990492977 alpha= 1.0\n"
     ]
    }
   ],
   "source": [
    "from sklearn import linear_model\n",
    "reg = linear_model.Ridge(); print(reg)\n",
    "reg.fit(x_vals.reshape((504,1)),y_vals)\n",
    "best_fit2=reg.predict(x_vals.reshape((504,1)))\n",
    "print('A=',reg.coef_,'b=',reg.intercept_,'alpha=',reg.alpha)"
   ]
  },
  {
   "cell_type": "code",
   "execution_count": 20,
   "metadata": {
    "collapsed": false,
    "deletable": true,
    "editable": true
   },
   "outputs": [
    {
     "name": "stdout",
     "output_type": "stream",
     "text": [
      "Results: (sklearn)\n",
      "\tA= [0.01745316] b= 26.674984990492977 alpha= 1.0\n",
      "Regression accurancy:\n",
      "\tR2 \t= 0.7070827369323309 \n",
      "\tMSE \t= 5.618257688376907\n"
     ]
    }
   ],
   "source": [
    "print('Results: (sklearn)')\n",
    "print('\\tA=',reg.coef_,'b=',reg.intercept_,'alpha=',reg.alpha)\n",
    "print('Regression accurancy:')\n",
    "print('\\tR2 \\t=',sklearn.metrics.r2_score(y_vals,best_fit2),\n",
    "      '\\n\\tMSE \\t=',sklearn.metrics.mean_squared_error(y_vals,best_fit2))"
   ]
  },
  {
   "cell_type": "code",
   "execution_count": 21,
   "metadata": {
    "collapsed": false,
    "deletable": true,
    "editable": true
   },
   "outputs": [
    {
     "data": {
      "image/png": "[encoded data removed]",
      "text/plain": [
       "<matplotlib.figure.Figure at 0x7f468b5e2090>"
      ]
     },
     "metadata": {},
     "output_type": "display_data"
    }
   ],
   "source": [
    "\n",
    "# Plot regression line against data points\n",
    "plt.figure(figsize=(15,6))\n",
    "plt.plot(x_vals, y_vals, 'o', label='Data Points')\n",
    "plt.plot(x_vals, best_fit2, 'r-', label='Best fit line', linewidth=3)\n",
    "plt.legend(loc='upper left')\n",
    "plt.title('Close vs Dates')\n",
    "plt.xlabel('Dates')\n",
    "plt.ylabel('Close values')\n",
    "plt.show()\n"
   ]
  },
  {
   "cell_type": "code",
   "execution_count": null,
   "metadata": {
    "collapsed": true,
    "deletable": true,
    "editable": true
   },
   "outputs": [],
   "source": []
  },
  {
   "cell_type": "code",
   "execution_count": 44,
   "metadata": {
    "collapsed": true,
    "deletable": true,
    "editable": true
   },
   "outputs": [],
   "source": [
    "# The End-2 :)"
   ]
  },
  {
   "cell_type": "code",
   "execution_count": null,
   "metadata": {
    "collapsed": true,
    "deletable": true,
    "editable": true
   },
   "outputs": [],
   "source": []
  }
 ],
 "metadata": {
  "kernelspec": {
   "display_name": "Python 2",
   "language": "python",
   "name": "python2"
  },
  "language_info": {
   "codemirror_mode": {
    "name": "ipython",
    "version": 2
   },
   "file_extension": ".py",
   "mimetype": "text/x-python",
   "name": "python",
   "nbconvert_exporter": "python",
   "pygments_lexer": "ipython2",
   "version": "2.7.13"
  }
 },
 "nbformat": 4,
 "nbformat_minor": 2
}
