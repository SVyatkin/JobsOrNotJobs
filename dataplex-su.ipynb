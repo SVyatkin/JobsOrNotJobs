{
 "cells": [
  {
   "cell_type": "code",
   "execution_count": 1,
   "metadata": {
    "collapsed": true,
    "deletable": true,
    "editable": true
   },
   "outputs": [],
   "source": [
    "#\n",
    "#\n",
    "# Предположительное решение тестового задания.\n",
    "#\n",
    "#\n",
    "\n",
    "# Творчески взято и не менее творчески переработано из решения\n",
    "# https://github.com/nfmcclure/tensorflow_cookbook/blob/master/03_Linear_Regression/06_Implementing_Lasso_and_Ridge_Regression/06_lasso_and_ridge_regression.py\n",
    "#\n",
    "# Подготовлено в Python 2.7\n",
    "#"
   ]
  },
  {
   "cell_type": "code",
   "execution_count": 2,
   "metadata": {
    "collapsed": false,
    "deletable": true,
    "editable": true
   },
   "outputs": [],
   "source": [
    "# import required libraries\n",
    "from __future__ import print_function\n",
    "import matplotlib.pyplot as plt\n",
    "import sys, os, datetime\n",
    "import numpy as np\n",
    "import pandas as pd"
   ]
  },
  {
   "cell_type": "code",
   "execution_count": 3,
   "metadata": {
    "collapsed": false,
    "deletable": true,
    "editable": true
   },
   "outputs": [],
   "source": [
    "import tensorflow as tf\n",
    "from tensorflow.python.framework import ops"
   ]
  },
  {
   "cell_type": "code",
   "execution_count": 4,
   "metadata": {
    "collapsed": false,
    "deletable": true,
    "editable": true
   },
   "outputs": [
    {
     "name": "stdout",
     "output_type": "stream",
     "text": [
      "python    : 2.7.13 |Continuum Analytics, Inc.| (default, Dec 20 2016, 23:09:15) \n",
      "[GCC 4.4.7 20120313 (Red Hat 4.4.7-1)]\n",
      "pandas    : 0.19.2\n",
      "numpy     : 1.14.1\n",
      "tensorflow: 1.2.1\n"
     ]
    }
   ],
   "source": [
    "print('python    :',sys.version)\n",
    "print('pandas    :',pd.__version__)\n",
    "print('numpy     :',np.__version__)\n",
    "print('tensorflow:',tf.__version__)"
   ]
  },
  {
   "cell_type": "code",
   "execution_count": null,
   "metadata": {
    "collapsed": true,
    "deletable": true,
    "editable": true
   },
   "outputs": [],
   "source": []
  },
  {
   "cell_type": "code",
   "execution_count": 5,
   "metadata": {
    "collapsed": false,
    "deletable": true,
    "editable": true
   },
   "outputs": [],
   "source": [
    "datas = pd.read_csv('./CSCO_2Y.csv', parse_dates=True)"
   ]
  },
  {
   "cell_type": "code",
   "execution_count": 6,
   "metadata": {
    "collapsed": false,
    "deletable": true,
    "editable": true
   },
   "outputs": [
    {
     "data": {
      "text/html": [
       "<div>\n",
       "<table border=\"1\" class=\"dataframe\">\n",
       "  <thead>\n",
       "    <tr style=\"text-align: right;\">\n",
       "      <th></th>\n",
       "      <th>Date</th>\n",
       "      <th>Open</th>\n",
       "      <th>High</th>\n",
       "      <th>Low</th>\n",
       "      <th>Close</th>\n",
       "      <th>Adj Close</th>\n",
       "      <th>Volume</th>\n",
       "    </tr>\n",
       "  </thead>\n",
       "  <tbody>\n",
       "    <tr>\n",
       "      <th>0</th>\n",
       "      <td>2016-04-14</td>\n",
       "      <td>28.379999</td>\n",
       "      <td>28.400000</td>\n",
       "      <td>28.100000</td>\n",
       "      <td>28.250000</td>\n",
       "      <td>26.396441</td>\n",
       "      <td>15036700</td>\n",
       "    </tr>\n",
       "    <tr>\n",
       "      <th>1</th>\n",
       "      <td>2016-04-15</td>\n",
       "      <td>28.100000</td>\n",
       "      <td>28.129999</td>\n",
       "      <td>27.730000</td>\n",
       "      <td>27.900000</td>\n",
       "      <td>26.069405</td>\n",
       "      <td>23804400</td>\n",
       "    </tr>\n",
       "    <tr>\n",
       "      <th>2</th>\n",
       "      <td>2016-04-18</td>\n",
       "      <td>27.900000</td>\n",
       "      <td>28.250000</td>\n",
       "      <td>27.799999</td>\n",
       "      <td>28.190001</td>\n",
       "      <td>26.340380</td>\n",
       "      <td>15742200</td>\n",
       "    </tr>\n",
       "    <tr>\n",
       "      <th>3</th>\n",
       "      <td>2016-04-19</td>\n",
       "      <td>28.330000</td>\n",
       "      <td>28.440001</td>\n",
       "      <td>28.200001</td>\n",
       "      <td>28.330000</td>\n",
       "      <td>26.471191</td>\n",
       "      <td>20307700</td>\n",
       "    </tr>\n",
       "    <tr>\n",
       "      <th>4</th>\n",
       "      <td>2016-04-20</td>\n",
       "      <td>28.400000</td>\n",
       "      <td>28.680000</td>\n",
       "      <td>28.260000</td>\n",
       "      <td>28.440001</td>\n",
       "      <td>26.573977</td>\n",
       "      <td>19937800</td>\n",
       "    </tr>\n",
       "  </tbody>\n",
       "</table>\n",
       "</div>"
      ],
      "text/plain": [
       "         Date       Open       High        Low      Close  Adj Close    Volume\n",
       "0  2016-04-14  28.379999  28.400000  28.100000  28.250000  26.396441  15036700\n",
       "1  2016-04-15  28.100000  28.129999  27.730000  27.900000  26.069405  23804400\n",
       "2  2016-04-18  27.900000  28.250000  27.799999  28.190001  26.340380  15742200\n",
       "3  2016-04-19  28.330000  28.440001  28.200001  28.330000  26.471191  20307700\n",
       "4  2016-04-20  28.400000  28.680000  28.260000  28.440001  26.573977  19937800"
      ]
     },
     "execution_count": 6,
     "metadata": {},
     "output_type": "execute_result"
    }
   ],
   "source": [
    "datas.head()"
   ]
  },
  {
   "cell_type": "code",
   "execution_count": 7,
   "metadata": {
    "collapsed": false,
    "deletable": true,
    "editable": true,
    "scrolled": false
   },
   "outputs": [
    {
     "data": {
      "image/png": "[encoded data removed]",
      "text/plain": [
       "<matplotlib.figure.Figure at 0x7f627b165050>"
      ]
     },
     "metadata": {},
     "output_type": "display_data"
    },
    {
     "data": {
      "image/png": "[encoded data removed]",
      "text/plain": [
       "<matplotlib.figure.Figure at 0x7f6278d81f50>"
      ]
     },
     "metadata": {},
     "output_type": "display_data"
    },
    {
     "data": {
      "image/png": "[encoded data removed]",
      "text/plain": [
       "<matplotlib.figure.Figure at 0x7f6279074510>"
      ]
     },
     "metadata": {},
     "output_type": "display_data"
    }
   ],
   "source": [
    "if 1 : \n",
    "    \n",
    "    plt.figure(figsize=(15,10))\n",
    "    plt.title('Volume vs Dates')\n",
    "    plt.plot_date(datas.Date, datas.Volume)\n",
    "    plt.xlabel('Dates')\n",
    "    plt.ylabel('Volume')\n",
    "    plt.show()\n",
    "    plt.figure(figsize=(15,10))\n",
    "    plt.title('Close vs Dates')\n",
    "    plt.xlabel('Dates')\n",
    "    plt.ylabel('Close')\n",
    "    plt.plot_date(datas.Date,datas.Close)\n",
    "    #plt.xticks(datas.Date)\n",
    "    plt.show()\n",
    "    plt.figure(figsize=(15,10))\n",
    "    plt.title('Volume vs Close')\n",
    "    plt.xlabel('Close')\n",
    "    plt.ylabel('Volume')\n",
    "    plt.scatter(datas.Close,datas.Volume)\n",
    "    plt.show()"
   ]
  },
  {
   "cell_type": "code",
   "execution_count": 8,
   "metadata": {
    "collapsed": false,
    "deletable": true,
    "editable": true
   },
   "outputs": [
    {
     "data": {
      "text/html": [
       "<div>\n",
       "<table border=\"1\" class=\"dataframe\">\n",
       "  <thead>\n",
       "    <tr style=\"text-align: right;\">\n",
       "      <th></th>\n",
       "      <th>Open</th>\n",
       "      <th>High</th>\n",
       "      <th>Low</th>\n",
       "      <th>Close</th>\n",
       "      <th>Adj Close</th>\n",
       "      <th>Volume</th>\n",
       "    </tr>\n",
       "  </thead>\n",
       "  <tbody>\n",
       "    <tr>\n",
       "      <th>count</th>\n",
       "      <td>504.000000</td>\n",
       "      <td>504.000000</td>\n",
       "      <td>504.000000</td>\n",
       "      <td>504.000000</td>\n",
       "      <td>504.000000</td>\n",
       "      <td>5.040000e+02</td>\n",
       "    </tr>\n",
       "    <tr>\n",
       "      <th>mean</th>\n",
       "      <td>33.238710</td>\n",
       "      <td>33.490774</td>\n",
       "      <td>33.002679</td>\n",
       "      <td>33.252262</td>\n",
       "      <td>32.132944</td>\n",
       "      <td>2.230747e+07</td>\n",
       "    </tr>\n",
       "    <tr>\n",
       "      <th>std</th>\n",
       "      <td>4.399879</td>\n",
       "      <td>4.485820</td>\n",
       "      <td>4.310628</td>\n",
       "      <td>4.383890</td>\n",
       "      <td>4.822270</td>\n",
       "      <td>9.182806e+06</td>\n",
       "    </tr>\n",
       "    <tr>\n",
       "      <th>min</th>\n",
       "      <td>26.190001</td>\n",
       "      <td>26.540001</td>\n",
       "      <td>25.809999</td>\n",
       "      <td>26.209999</td>\n",
       "      <td>24.490292</td>\n",
       "      <td>6.155800e+06</td>\n",
       "    </tr>\n",
       "    <tr>\n",
       "      <th>25%</th>\n",
       "      <td>30.597500</td>\n",
       "      <td>30.747500</td>\n",
       "      <td>30.360001</td>\n",
       "      <td>30.547500</td>\n",
       "      <td>28.976646</td>\n",
       "      <td>1.666962e+07</td>\n",
       "    </tr>\n",
       "    <tr>\n",
       "      <th>50%</th>\n",
       "      <td>31.685001</td>\n",
       "      <td>31.870001</td>\n",
       "      <td>31.459999</td>\n",
       "      <td>31.655000</td>\n",
       "      <td>30.727298</td>\n",
       "      <td>2.037380e+07</td>\n",
       "    </tr>\n",
       "    <tr>\n",
       "      <th>75%</th>\n",
       "      <td>34.202500</td>\n",
       "      <td>34.342500</td>\n",
       "      <td>34.029999</td>\n",
       "      <td>34.230000</td>\n",
       "      <td>33.136553</td>\n",
       "      <td>2.514458e+07</td>\n",
       "    </tr>\n",
       "    <tr>\n",
       "      <th>max</th>\n",
       "      <td>45.779999</td>\n",
       "      <td>46.160000</td>\n",
       "      <td>45.400002</td>\n",
       "      <td>45.549999</td>\n",
       "      <td>45.186745</td>\n",
       "      <td>8.550050e+07</td>\n",
       "    </tr>\n",
       "  </tbody>\n",
       "</table>\n",
       "</div>"
      ],
      "text/plain": [
       "             Open        High         Low       Close   Adj Close  \\\n",
       "count  504.000000  504.000000  504.000000  504.000000  504.000000   \n",
       "mean    33.238710   33.490774   33.002679   33.252262   32.132944   \n",
       "std      4.399879    4.485820    4.310628    4.383890    4.822270   \n",
       "min     26.190001   26.540001   25.809999   26.209999   24.490292   \n",
       "25%     30.597500   30.747500   30.360001   30.547500   28.976646   \n",
       "50%     31.685001   31.870001   31.459999   31.655000   30.727298   \n",
       "75%     34.202500   34.342500   34.029999   34.230000   33.136553   \n",
       "max     45.779999   46.160000   45.400002   45.549999   45.186745   \n",
       "\n",
       "             Volume  \n",
       "count  5.040000e+02  \n",
       "mean   2.230747e+07  \n",
       "std    9.182806e+06  \n",
       "min    6.155800e+06  \n",
       "25%    1.666962e+07  \n",
       "50%    2.037380e+07  \n",
       "75%    2.514458e+07  \n",
       "max    8.550050e+07  "
      ]
     },
     "execution_count": 8,
     "metadata": {},
     "output_type": "execute_result"
    }
   ],
   "source": [
    "datas.describe()"
   ]
  },
  {
   "cell_type": "code",
   "execution_count": null,
   "metadata": {
    "collapsed": false,
    "deletable": true,
    "editable": true
   },
   "outputs": [],
   "source": []
  },
  {
   "cell_type": "code",
   "execution_count": 9,
   "metadata": {
    "collapsed": false,
    "deletable": true,
    "editable": true
   },
   "outputs": [
    {
     "data": {
      "text/html": [
       "<div>\n",
       "<table border=\"1\" class=\"dataframe\">\n",
       "  <thead>\n",
       "    <tr style=\"text-align: right;\">\n",
       "      <th></th>\n",
       "      <th>Date</th>\n",
       "      <th>Open</th>\n",
       "      <th>High</th>\n",
       "      <th>Low</th>\n",
       "      <th>Close</th>\n",
       "      <th>Adj Close</th>\n",
       "      <th>Volume</th>\n",
       "      <th>nn</th>\n",
       "      <th>yy</th>\n",
       "    </tr>\n",
       "  </thead>\n",
       "  <tbody>\n",
       "    <tr>\n",
       "      <th>0</th>\n",
       "      <td>2016-04-14</td>\n",
       "      <td>28.379999</td>\n",
       "      <td>28.400000</td>\n",
       "      <td>28.100000</td>\n",
       "      <td>28.250000</td>\n",
       "      <td>26.396441</td>\n",
       "      <td>15036700</td>\n",
       "      <td>13</td>\n",
       "      <td>105</td>\n",
       "    </tr>\n",
       "    <tr>\n",
       "      <th>1</th>\n",
       "      <td>2016-04-15</td>\n",
       "      <td>28.100000</td>\n",
       "      <td>28.129999</td>\n",
       "      <td>27.730000</td>\n",
       "      <td>27.900000</td>\n",
       "      <td>26.069405</td>\n",
       "      <td>23804400</td>\n",
       "      <td>14</td>\n",
       "      <td>106</td>\n",
       "    </tr>\n",
       "    <tr>\n",
       "      <th>2</th>\n",
       "      <td>2016-04-18</td>\n",
       "      <td>27.900000</td>\n",
       "      <td>28.250000</td>\n",
       "      <td>27.799999</td>\n",
       "      <td>28.190001</td>\n",
       "      <td>26.340380</td>\n",
       "      <td>15742200</td>\n",
       "      <td>17</td>\n",
       "      <td>109</td>\n",
       "    </tr>\n",
       "    <tr>\n",
       "      <th>3</th>\n",
       "      <td>2016-04-19</td>\n",
       "      <td>28.330000</td>\n",
       "      <td>28.440001</td>\n",
       "      <td>28.200001</td>\n",
       "      <td>28.330000</td>\n",
       "      <td>26.471191</td>\n",
       "      <td>20307700</td>\n",
       "      <td>18</td>\n",
       "      <td>110</td>\n",
       "    </tr>\n",
       "    <tr>\n",
       "      <th>4</th>\n",
       "      <td>2016-04-20</td>\n",
       "      <td>28.400000</td>\n",
       "      <td>28.680000</td>\n",
       "      <td>28.260000</td>\n",
       "      <td>28.440001</td>\n",
       "      <td>26.573977</td>\n",
       "      <td>19937800</td>\n",
       "      <td>19</td>\n",
       "      <td>111</td>\n",
       "    </tr>\n",
       "  </tbody>\n",
       "</table>\n",
       "</div>"
      ],
      "text/plain": [
       "        Date       Open       High        Low      Close  Adj Close    Volume  \\\n",
       "0 2016-04-14  28.379999  28.400000  28.100000  28.250000  26.396441  15036700   \n",
       "1 2016-04-15  28.100000  28.129999  27.730000  27.900000  26.069405  23804400   \n",
       "2 2016-04-18  27.900000  28.250000  27.799999  28.190001  26.340380  15742200   \n",
       "3 2016-04-19  28.330000  28.440001  28.200001  28.330000  26.471191  20307700   \n",
       "4 2016-04-20  28.400000  28.680000  28.260000  28.440001  26.573977  19937800   \n",
       "\n",
       "   nn   yy  \n",
       "0  13  105  \n",
       "1  14  106  \n",
       "2  17  109  \n",
       "3  18  110  \n",
       "4  19  111  "
      ]
     },
     "execution_count": 9,
     "metadata": {},
     "output_type": "execute_result"
    }
   ],
   "source": [
    "#\n",
    "# Делаем более удобный формат данных для регрессии, чтобы там не умничать\n",
    "#\n",
    "# Все то же самое, только Date - другой тип данных\n",
    "# nn - отсчет от 1 апреля 2016\n",
    "# yy - отсчет от начала года, на всякий случай (тренд и видимо сезонность с расширением амплитуды и тд)\n",
    "#\n",
    "#\n",
    "\n",
    "ddd = datas.copy()\n",
    "\n",
    "ddd['Date'] = pd.to_datetime(ddd.Date)\n",
    "\n",
    "ddd['nn'] = '2016-04-01' ;#datetime.datetime.strptime('2016-01-01', \"%Y-%m-%d\").date()\n",
    "ddd['nn'] = pd.to_datetime(ddd.nn)\n",
    "ddd['nn'] = ddd['Date'].subtract(ddd['nn'])\n",
    "ddd['nn'] = ddd['nn'].dt.days\n",
    "\n",
    "ddd['yy'] = ddd.Date.dt.dayofyear\n",
    "\n",
    "ddd.head()"
   ]
  },
  {
   "cell_type": "code",
   "execution_count": 10,
   "metadata": {
    "collapsed": false,
    "deletable": true,
    "editable": true
   },
   "outputs": [
    {
     "data": {
      "text/html": [
       "<div>\n",
       "<table border=\"1\" class=\"dataframe\">\n",
       "  <thead>\n",
       "    <tr style=\"text-align: right;\">\n",
       "      <th></th>\n",
       "      <th>Open</th>\n",
       "      <th>High</th>\n",
       "      <th>Low</th>\n",
       "      <th>Close</th>\n",
       "      <th>Adj Close</th>\n",
       "      <th>Volume</th>\n",
       "      <th>nn</th>\n",
       "      <th>yy</th>\n",
       "    </tr>\n",
       "  </thead>\n",
       "  <tbody>\n",
       "    <tr>\n",
       "      <th>count</th>\n",
       "      <td>504.000000</td>\n",
       "      <td>504.000000</td>\n",
       "      <td>504.000000</td>\n",
       "      <td>504.000000</td>\n",
       "      <td>504.000000</td>\n",
       "      <td>5.040000e+02</td>\n",
       "      <td>504.000000</td>\n",
       "      <td>504.000000</td>\n",
       "    </tr>\n",
       "    <tr>\n",
       "      <th>mean</th>\n",
       "      <td>33.238710</td>\n",
       "      <td>33.490774</td>\n",
       "      <td>33.002679</td>\n",
       "      <td>33.252262</td>\n",
       "      <td>32.132944</td>\n",
       "      <td>2.230747e+07</td>\n",
       "      <td>376.853175</td>\n",
       "      <td>183.601190</td>\n",
       "    </tr>\n",
       "    <tr>\n",
       "      <th>std</th>\n",
       "      <td>4.399879</td>\n",
       "      <td>4.485820</td>\n",
       "      <td>4.310628</td>\n",
       "      <td>4.383890</td>\n",
       "      <td>4.822270</td>\n",
       "      <td>9.182806e+06</td>\n",
       "      <td>211.213060</td>\n",
       "      <td>104.791954</td>\n",
       "    </tr>\n",
       "    <tr>\n",
       "      <th>min</th>\n",
       "      <td>26.190001</td>\n",
       "      <td>26.540001</td>\n",
       "      <td>25.809999</td>\n",
       "      <td>26.209999</td>\n",
       "      <td>24.490292</td>\n",
       "      <td>6.155800e+06</td>\n",
       "      <td>13.000000</td>\n",
       "      <td>2.000000</td>\n",
       "    </tr>\n",
       "    <tr>\n",
       "      <th>25%</th>\n",
       "      <td>30.597500</td>\n",
       "      <td>30.747500</td>\n",
       "      <td>30.360001</td>\n",
       "      <td>30.547500</td>\n",
       "      <td>28.976646</td>\n",
       "      <td>1.666962e+07</td>\n",
       "      <td>193.750000</td>\n",
       "      <td>93.750000</td>\n",
       "    </tr>\n",
       "    <tr>\n",
       "      <th>50%</th>\n",
       "      <td>31.685001</td>\n",
       "      <td>31.870001</td>\n",
       "      <td>31.459999</td>\n",
       "      <td>31.655000</td>\n",
       "      <td>30.727298</td>\n",
       "      <td>2.037380e+07</td>\n",
       "      <td>376.500000</td>\n",
       "      <td>183.500000</td>\n",
       "    </tr>\n",
       "    <tr>\n",
       "      <th>75%</th>\n",
       "      <td>34.202500</td>\n",
       "      <td>34.342500</td>\n",
       "      <td>34.029999</td>\n",
       "      <td>34.230000</td>\n",
       "      <td>33.136553</td>\n",
       "      <td>2.514458e+07</td>\n",
       "      <td>558.250000</td>\n",
       "      <td>274.250000</td>\n",
       "    </tr>\n",
       "    <tr>\n",
       "      <th>max</th>\n",
       "      <td>45.779999</td>\n",
       "      <td>46.160000</td>\n",
       "      <td>45.400002</td>\n",
       "      <td>45.549999</td>\n",
       "      <td>45.186745</td>\n",
       "      <td>8.550050e+07</td>\n",
       "      <td>742.000000</td>\n",
       "      <td>365.000000</td>\n",
       "    </tr>\n",
       "  </tbody>\n",
       "</table>\n",
       "</div>"
      ],
      "text/plain": [
       "             Open        High         Low       Close   Adj Close  \\\n",
       "count  504.000000  504.000000  504.000000  504.000000  504.000000   \n",
       "mean    33.238710   33.490774   33.002679   33.252262   32.132944   \n",
       "std      4.399879    4.485820    4.310628    4.383890    4.822270   \n",
       "min     26.190001   26.540001   25.809999   26.209999   24.490292   \n",
       "25%     30.597500   30.747500   30.360001   30.547500   28.976646   \n",
       "50%     31.685001   31.870001   31.459999   31.655000   30.727298   \n",
       "75%     34.202500   34.342500   34.029999   34.230000   33.136553   \n",
       "max     45.779999   46.160000   45.400002   45.549999   45.186745   \n",
       "\n",
       "             Volume          nn          yy  \n",
       "count  5.040000e+02  504.000000  504.000000  \n",
       "mean   2.230747e+07  376.853175  183.601190  \n",
       "std    9.182806e+06  211.213060  104.791954  \n",
       "min    6.155800e+06   13.000000    2.000000  \n",
       "25%    1.666962e+07  193.750000   93.750000  \n",
       "50%    2.037380e+07  376.500000  183.500000  \n",
       "75%    2.514458e+07  558.250000  274.250000  \n",
       "max    8.550050e+07  742.000000  365.000000  "
      ]
     },
     "execution_count": 10,
     "metadata": {},
     "output_type": "execute_result"
    }
   ],
   "source": [
    "ddd.describe()"
   ]
  },
  {
   "cell_type": "code",
   "execution_count": null,
   "metadata": {
    "collapsed": false,
    "deletable": true,
    "editable": true
   },
   "outputs": [],
   "source": []
  },
  {
   "cell_type": "code",
   "execution_count": 11,
   "metadata": {
    "collapsed": false,
    "deletable": true,
    "editable": true,
    "scrolled": false
   },
   "outputs": [
    {
     "name": "stdout",
     "output_type": "stream",
     "text": [
      "2018-04-26 17:31:40.673489 Loss = [166.92409] Step #1000 A = [[0.06947076]] b = [[1.0140158]]\n",
      "2018-04-26 17:31:41.458473 Loss = [162.67036] Step #2000 A = [[0.06900056]] b = [[1.0262574]]\n",
      "2018-04-26 17:31:42.234632 Loss = [162.37889] Step #3000 A = [[0.06917215]] b = [[1.0385588]]\n",
      "2018-04-26 17:31:42.990294 Loss = [170.67764] Step #4000 A = [[0.06940599]] b = [[1.0507436]]\n",
      "2018-04-26 17:31:43.778112 Loss = [172.12708] Step #5000 A = [[0.06990158]] b = [[1.0629828]]\n",
      "2018-04-26 17:31:44.543544 Loss = [150.82686] Step #6000 A = [[0.0686204]] b = [[1.07515]]\n",
      "2018-04-26 17:31:45.344512 Loss = [162.79118] Step #7000 A = [[0.06928644]] b = [[1.0873404]]\n",
      "2018-04-26 17:31:46.130341 Loss = [158.45218] Step #8000 A = [[0.06907938]] b = [[1.0995733]]\n",
      "2018-04-26 17:31:46.880459 Loss = [150.98088] Step #9000 A = [[0.06993444]] b = [[1.1118118]]\n",
      "2018-04-26 17:31:47.674200 Loss = [168.80814] Step #10000 A = [[0.06877445]] b = [[1.1240352]]\n",
      "2018-04-26 17:31:48.440378 Loss = [161.69327] Step #11000 A = [[0.06973405]] b = [[1.1362622]]\n",
      "2018-04-26 17:31:49.214335 Loss = [171.49736] Step #12000 A = [[0.06973404]] b = [[1.1484498]]\n",
      "2018-04-26 17:31:49.966407 Loss = [155.47354] Step #13000 A = [[0.06890064]] b = [[1.1605781]]\n",
      "2018-04-26 17:31:50.373728 The End\n"
     ]
    }
   ],
   "source": [
    "# LASSO and Ridge Regression\n",
    "# \n",
    "# This function shows how to use TensorFlow to solve LASSO or Ridge regression for \n",
    "#\n",
    "# y = Ax + b\n",
    "# \n",
    "# Use the datas (nn or yy and Close) \n",
    "#   y = ddd.Close \n",
    "#   x = ddd.nn or ddd.yy field (nn - offset from 2016-04-01, yy offset from year begin)\n",
    "# \n",
    "# \n",
    "\n",
    "# Specify 'Ridge' or 'LASSO', may be 'None'\n",
    "regression_type = 'None'\n",
    "#regression_type = 'LASSO'\n",
    "regression_type = 'Ridge'\n",
    "\n",
    "# clear out old graph\n",
    "ops.reset_default_graph()\n",
    "\n",
    "# Create graph\n",
    "sess = tf.Session()\n",
    "\n",
    "###\n",
    "# Get datas\n",
    "###\n",
    "\n",
    "#x_vals = ddd.yy.values\n",
    "x_vals = ddd.nn.values\n",
    "y_vals = ddd.Close.values\n",
    "\n",
    "###\n",
    "# Model Parameters\n",
    "###\n",
    "\n",
    "# Declare batch size (just in case)\n",
    "batch_size = 500\n",
    "\n",
    "# Initialize placeholders\n",
    "x_data   = tf.placeholder(shape=[None, 1], dtype=tf.float32)\n",
    "y_target = tf.placeholder(shape=[None, 1], dtype=tf.float32)\n",
    "\n",
    "# make results reproducible\n",
    "seed = 250\n",
    "np.random.seed(seed)\n",
    "tf.set_random_seed(seed)\n",
    "\n",
    "# Create variables for linear regression\n",
    "A = tf.Variable(tf.random_normal(shape=[1,1]))\n",
    "b = tf.Variable(tf.random_normal(shape=[1,1]))\n",
    "\n",
    "# Declare model operations\n",
    "model_output = tf.add(tf.matmul(x_data, A), b)\n",
    "\n",
    "loss = tf.expand_dims(tf.reduce_mean(tf.square(y_target - model_output)),0) # For None or Empty case \n",
    "\n",
    "###\n",
    "# Loss Functions\n",
    "###\n",
    "\n",
    "# Select appropriate loss function based on regression type\n",
    "\n",
    "if regression_type == 'LASSO':\n",
    "    # Declare Lasso loss function\n",
    "    # Lasso Loss = L2_Loss + heavyside_step,\n",
    "    # Where heavyside_step ~ 0 if A < constant, otherwise ~ 99\n",
    "    lasso_param = tf.constant(0.9)\n",
    "    heavyside_step = tf.truediv(1., tf.add(1., tf.exp(tf.multiply(-50., tf.subtract(A, lasso_param)))))\n",
    "    regularization_param = tf.multiply(heavyside_step, 99.)\n",
    "    loss = tf.add(tf.reduce_mean(tf.square(y_target - model_output)), regularization_param)\n",
    "\n",
    "elif regression_type == 'Ridge':\n",
    "    # Declare the Ridge loss function\n",
    "    # Ridge loss = L2_loss + L2 norm of slope\n",
    "    ridge_param = tf.constant(1.)\n",
    "    ridge_loss = tf.reduce_mean(tf.square(A))\n",
    "    loss = tf.expand_dims(tf.add(tf.reduce_mean(tf.square(y_target - model_output)), \n",
    "                                 tf.multiply(ridge_param, ridge_loss)), 0)\n",
    "    \n",
    "else:\n",
    "    print('Invalid regression_type parameter value') #,file=sys.stderr)\n",
    "\n",
    "\n",
    "###\n",
    "# Optimizer\n",
    "###\n",
    "\n",
    "# Declare optimizer\n",
    "lr     = 0.000001 # learning rate\n",
    "my_opt = tf.train.GradientDescentOptimizer(lr)\n",
    "train_step = my_opt.minimize(loss)\n",
    "\n",
    "###\n",
    "# Run regression\n",
    "###\n",
    "\n",
    "# Initialize variables\n",
    "init = tf.global_variables_initializer()\n",
    "sess.run(init)\n",
    "\n",
    "# Training loop\n",
    "booooms  = 13500\n",
    "loss_vec = []\n",
    "AB_vec   = []\n",
    "for i in range(booooms) :\n",
    "    rand_index = np.random.choice(len(x_vals), size=batch_size)\n",
    "    rand_x = np.transpose([x_vals[rand_index]])\n",
    "    rand_y = np.transpose([y_vals[rand_index]])\n",
    "    sess.run(train_step, feed_dict={x_data: rand_x, y_target: rand_y})\n",
    "    temp_loss = sess.run(loss, feed_dict={x_data: rand_x, y_target: rand_y})\n",
    "    loss_vec.append(temp_loss[0])\n",
    "    [ANew] = sess.run(A)\n",
    "    [bNew] = sess.run(b)\n",
    "    AB_vec.append([ANew,bNew])\n",
    "    if (i+1)%1000==0:\n",
    "        print(datetime.datetime.now(),\n",
    "              'Loss = ' + str(temp_loss), \n",
    "              'Step #' + str(i+1) + ' A = ' + str(sess.run(A)) + ' b = ' + str(sess.run(b)))\n",
    "\n",
    "print(datetime.datetime.now(),'The End')\n"
   ]
  },
  {
   "cell_type": "code",
   "execution_count": null,
   "metadata": {
    "collapsed": true,
    "deletable": true,
    "editable": true
   },
   "outputs": [],
   "source": []
  },
  {
   "cell_type": "code",
   "execution_count": null,
   "metadata": {
    "collapsed": true,
    "deletable": true,
    "editable": true
   },
   "outputs": [],
   "source": []
  },
  {
   "cell_type": "code",
   "execution_count": 12,
   "metadata": {
    "collapsed": true,
    "deletable": true,
    "editable": true
   },
   "outputs": [],
   "source": [
    "# Best regression results "
   ]
  },
  {
   "cell_type": "code",
   "execution_count": 13,
   "metadata": {
    "collapsed": false,
    "deletable": true,
    "editable": true
   },
   "outputs": [
    {
     "name": "stdout",
     "output_type": "stream",
     "text": [
      "Best Results\n",
      "loss min (#,value) = 13037 126.49899 \n",
      " A,b = 0.06831679 1.1610332\n"
     ]
    }
   ],
   "source": [
    "loss_argmin = np.array(loss_vec).argmin()\n",
    "print('Best Results')\n",
    "print('loss min (#,value) =',loss_argmin, loss_vec[loss_argmin], '\\n', \n",
    "      'A,b =', AB_vec[loss_argmin][0][0], AB_vec[loss_argmin][1][0])"
   ]
  },
  {
   "cell_type": "code",
   "execution_count": null,
   "metadata": {
    "collapsed": true
   },
   "outputs": [],
   "source": []
  },
  {
   "cell_type": "code",
   "execution_count": 14,
   "metadata": {
    "collapsed": false,
    "deletable": true,
    "editable": true
   },
   "outputs": [
    {
     "data": {
      "image/png": "[encoded data removed]",
      "text/plain": [
       "<matplotlib.figure.Figure at 0x7f6278f492d0>"
      ]
     },
     "metadata": {},
     "output_type": "display_data"
    },
    {
     "data": {
      "image/png": "[encoded data removed]",
      "text/plain": [
       "<matplotlib.figure.Figure at 0x7f6278f6fcd0>"
      ]
     },
     "metadata": {},
     "output_type": "display_data"
    }
   ],
   "source": [
    "###\n",
    "# Extract regression results\n",
    "###\n",
    "\n",
    "# Calculate the optimal coefficients\n",
    "[slope] = AB_vec[loss_argmin][0]\n",
    "[y_intercept] = AB_vec[loss_argmin][1]\n",
    "\n",
    "# Get best fit line\n",
    "best_fit = [slope*i+y_intercept for i in x_vals]\n",
    "\n",
    "###\n",
    "# Plot results\n",
    "###\n",
    "\n",
    "# Plot regression line against data points\n",
    "plt.figure(figsize=(15,6))\n",
    "plt.plot(x_vals, y_vals, 'o', label='Data Points')\n",
    "plt.plot(x_vals, best_fit, 'r-', label='Best fit line', linewidth=3)\n",
    "plt.legend(loc='upper left')\n",
    "plt.title('Close vs Dates')\n",
    "plt.xlabel('Dates')\n",
    "plt.ylabel('Close values')\n",
    "plt.show()\n",
    "\n",
    "# Plot loss over time\n",
    "plt.figure(figsize=(15,6))\n",
    "plt.plot(loss_vec, 'k-')\n",
    "plt.title(regression_type + ' Loss per Generation')\n",
    "plt.xlabel('Generation')\n",
    "plt.ylabel('Loss')\n",
    "plt.show()\n"
   ]
  },
  {
   "cell_type": "code",
   "execution_count": null,
   "metadata": {
    "collapsed": true,
    "deletable": true,
    "editable": true
   },
   "outputs": [],
   "source": []
  },
  {
   "cell_type": "code",
   "execution_count": 15,
   "metadata": {
    "collapsed": true,
    "deletable": true,
    "editable": true
   },
   "outputs": [],
   "source": [
    "# The End :)"
   ]
  }
 ],
 "metadata": {
  "kernelspec": {
   "display_name": "Python 2",
   "language": "python",
   "name": "python2"
  },
  "language_info": {
   "codemirror_mode": {
    "name": "ipython",
    "version": 2
   },
   "file_extension": ".py",
   "mimetype": "text/x-python",
   "name": "python",
   "nbconvert_exporter": "python",
   "pygments_lexer": "ipython2",
   "version": "2.7.13"
  }
 },
 "nbformat": 4,
 "nbformat_minor": 2
}
